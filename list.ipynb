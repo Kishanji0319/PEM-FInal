{
 "cells": [
  {
   "cell_type": "code",
   "execution_count": 1,
   "id": "3086094f",
   "metadata": {},
   "outputs": [],
   "source": [
    "cart = {}\n",
    "cart['product'] = []\n",
    "cart['quantity']= []"
   ]
  },
  {
   "cell_type": "code",
   "execution_count": null,
   "id": "0d61497d",
   "metadata": {},
   "outputs": [],
   "source": [
    "user_input = str(input(\"Enter product name\"))\n",
    "cart['product'].append(user_input)\n",
    "user_input = str(input(\"Enter quantity\"))\n",
    "cart['quantity'].append(user_input)\n",
    "print(cart)"
   ]
  },
  {
   "cell_type": "code",
   "execution_count": null,
   "id": "63f5bfa0",
   "metadata": {},
   "outputs": [],
   "source": [
    "user_input = str(input(\"Enter quantity\"))\n",
    "cart['quantity'].append(user_input)\n",
    "print(cart)"
   ]
  },
  {
   "cell_type": "code",
   "execution_count": null,
   "id": "0353f026",
   "metadata": {},
   "outputs": [],
   "source": []
  }
 ],
 "metadata": {
  "kernelspec": {
   "display_name": "base",
   "language": "python",
   "name": "python3"
  },
  "language_info": {
   "codemirror_mode": {
    "name": "ipython",
    "version": 3
   },
   "file_extension": ".py",
   "mimetype": "text/x-python",
   "name": "python",
   "nbconvert_exporter": "python",
   "pygments_lexer": "ipython3",
   "version": "3.12.7"
  }
 },
 "nbformat": 4,
 "nbformat_minor": 5
}
